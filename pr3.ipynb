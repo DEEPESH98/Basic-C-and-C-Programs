{
  "nbformat": 4,
  "nbformat_minor": 0,
  "metadata": {
    "colab": {
      "name": "Untitled44.ipynb",
      "version": "0.3.2",
      "provenance": [],
      "include_colab_link": true
    },
    "kernelspec": {
      "name": "python3",
      "display_name": "Python 3"
    }
  },
  "cells": [
    {
      "cell_type": "markdown",
      "metadata": {
        "id": "view-in-github",
        "colab_type": "text"
      },
      "source": [
        "<a href=\"https://colab.research.google.com/github/DEEPESH98/Basic-C-programs/blob/master/pr3.ipynb\" target=\"_parent\"><img src=\"https://colab.research.google.com/assets/colab-badge.svg\" alt=\"Open In Colab\"/></a>"
      ]
    },
    {
      "cell_type": "code",
      "metadata": {
        "id": "A1ydatNjD27e",
        "colab_type": "code",
        "colab": {}
      },
      "source": [
        "import pandas as pd\n",
        "import matplotlib.pyplot as plt"
      ],
      "execution_count": 0,
      "outputs": []
    },
    {
      "cell_type": "code",
      "metadata": {
        "id": "0VRK-fWBEDIZ",
        "colab_type": "code",
        "colab": {}
      },
      "source": [
        "# loading data\n",
        "df=pd.read_csv('salary.csv')"
      ],
      "execution_count": 0,
      "outputs": []
    },
    {
      "cell_type": "code",
      "metadata": {
        "id": "bcWpoDGOESdf",
        "colab_type": "code",
        "colab": {}
      },
      "source": [
        "# exp \n",
        "exp=df.iloc[:,0:1].values"
      ],
      "execution_count": 0,
      "outputs": []
    },
    {
      "cell_type": "code",
      "metadata": {
        "id": "CV3BlaVUEZNB",
        "colab_type": "code",
        "colab": {}
      },
      "source": [
        "# sal\n",
        "sal=df.iloc[:,1:].values"
      ],
      "execution_count": 0,
      "outputs": []
    },
    {
      "cell_type": "code",
      "metadata": {
        "id": "3rexrQxIEe_C",
        "colab_type": "code",
        "colab": {}
      },
      "source": [
        "# call linear model just for compare\n",
        "# calling linear regression model\n",
        "from sklearn.linear_model import LinearRegression"
      ],
      "execution_count": 0,
      "outputs": []
    },
    {
      "cell_type": "code",
      "metadata": {
        "id": "VCTUhNrkEpf_",
        "colab_type": "code",
        "colab": {}
      },
      "source": [
        "# model creation\n",
        "regr=LinearRegression()"
      ],
      "execution_count": 0,
      "outputs": []
    },
    {
      "cell_type": "code",
      "metadata": {
        "id": "3_EWMW7SEqU9",
        "colab_type": "code",
        "colab": {}
      },
      "source": [
        "# to transfor data we can call poly transform method\n",
        "from sklearn.preprocessing import  PolynomialFeatures"
      ],
      "execution_count": 0,
      "outputs": []
    },
    {
      "cell_type": "code",
      "metadata": {
        "id": "kebdWzRBFHEW",
        "colab_type": "code",
        "colab": {}
      },
      "source": [
        "# experience transfrom\n",
        "poly= PolynomialFeatures(degree=15)"
      ],
      "execution_count": 0,
      "outputs": []
    },
    {
      "cell_type": "code",
      "metadata": {
        "id": "zgkybssyFeI5",
        "colab_type": "code",
        "colab": {}
      },
      "source": [
        "# exp fir\n",
        "newexp=poly.fit_transform(exp)"
      ],
      "execution_count": 0,
      "outputs": []
    },
    {
      "cell_type": "code",
      "metadata": {
        "id": "7aQXr_kmFnHY",
        "colab_type": "code",
        "colab": {
          "base_uri": "https://localhost:8080/",
          "height": 1000
        },
        "outputId": "111acde1-aca4-47c3-a046-ded9f955bf2f"
      },
      "source": [
        "newexp"
      ],
      "execution_count": 151,
      "outputs": [
        {
          "output_type": "execute_result",
          "data": {
            "text/plain": [
              "array([[1.00000000e+00, 1.10000000e+00, 1.21000000e+00, 1.33100000e+00,\n",
              "        1.46410000e+00, 1.61051000e+00, 1.77156100e+00, 1.94871710e+00,\n",
              "        2.14358881e+00, 2.35794769e+00, 2.59374246e+00, 2.85311671e+00,\n",
              "        3.13842838e+00, 3.45227121e+00, 3.79749834e+00, 4.17724817e+00],\n",
              "       [1.00000000e+00, 1.30000000e+00, 1.69000000e+00, 2.19700000e+00,\n",
              "        2.85610000e+00, 3.71293000e+00, 4.82680900e+00, 6.27485170e+00,\n",
              "        8.15730721e+00, 1.06044994e+01, 1.37858492e+01, 1.79216039e+01,\n",
              "        2.32980851e+01, 3.02875107e+01, 3.93737639e+01, 5.11858930e+01],\n",
              "       [1.00000000e+00, 1.50000000e+00, 2.25000000e+00, 3.37500000e+00,\n",
              "        5.06250000e+00, 7.59375000e+00, 1.13906250e+01, 1.70859375e+01,\n",
              "        2.56289062e+01, 3.84433594e+01, 5.76650391e+01, 8.64975586e+01,\n",
              "        1.29746338e+02, 1.94619507e+02, 2.91929260e+02, 4.37893890e+02],\n",
              "       [1.00000000e+00, 2.00000000e+00, 4.00000000e+00, 8.00000000e+00,\n",
              "        1.60000000e+01, 3.20000000e+01, 6.40000000e+01, 1.28000000e+02,\n",
              "        2.56000000e+02, 5.12000000e+02, 1.02400000e+03, 2.04800000e+03,\n",
              "        4.09600000e+03, 8.19200000e+03, 1.63840000e+04, 3.27680000e+04],\n",
              "       [1.00000000e+00, 2.20000000e+00, 4.84000000e+00, 1.06480000e+01,\n",
              "        2.34256000e+01, 5.15363200e+01, 1.13379904e+02, 2.49435789e+02,\n",
              "        5.48758735e+02, 1.20726922e+03, 2.65599228e+03, 5.84318301e+03,\n",
              "        1.28550026e+04, 2.82810058e+04, 6.22182127e+04, 1.36880068e+05],\n",
              "       [1.00000000e+00, 2.90000000e+00, 8.41000000e+00, 2.43890000e+01,\n",
              "        7.07281000e+01, 2.05111490e+02, 5.94823321e+02, 1.72498763e+03,\n",
              "        5.00246413e+03, 1.45071460e+04, 4.20707233e+04, 1.22005098e+05,\n",
              "        3.53814783e+05, 1.02606287e+06, 2.97558233e+06, 8.62918875e+06],\n",
              "       [1.00000000e+00, 3.00000000e+00, 9.00000000e+00, 2.70000000e+01,\n",
              "        8.10000000e+01, 2.43000000e+02, 7.29000000e+02, 2.18700000e+03,\n",
              "        6.56100000e+03, 1.96830000e+04, 5.90490000e+04, 1.77147000e+05,\n",
              "        5.31441000e+05, 1.59432300e+06, 4.78296900e+06, 1.43489070e+07],\n",
              "       [1.00000000e+00, 3.20000000e+00, 1.02400000e+01, 3.27680000e+01,\n",
              "        1.04857600e+02, 3.35544320e+02, 1.07374182e+03, 3.43597384e+03,\n",
              "        1.09951163e+04, 3.51843721e+04, 1.12589991e+05, 3.60287970e+05,\n",
              "        1.15292150e+06, 3.68934881e+06, 1.18059162e+07, 3.77789319e+07],\n",
              "       [1.00000000e+00, 3.20000000e+00, 1.02400000e+01, 3.27680000e+01,\n",
              "        1.04857600e+02, 3.35544320e+02, 1.07374182e+03, 3.43597384e+03,\n",
              "        1.09951163e+04, 3.51843721e+04, 1.12589991e+05, 3.60287970e+05,\n",
              "        1.15292150e+06, 3.68934881e+06, 1.18059162e+07, 3.77789319e+07],\n",
              "       [1.00000000e+00, 3.70000000e+00, 1.36900000e+01, 5.06530000e+01,\n",
              "        1.87416100e+02, 6.93439570e+02, 2.56572641e+03, 9.49318771e+03,\n",
              "        3.51247945e+04, 1.29961740e+05, 4.80858437e+05, 1.77917622e+06,\n",
              "        6.58295201e+06, 2.43569224e+07, 9.01206130e+07, 3.33446268e+08],\n",
              "       [1.00000000e+00, 3.90000000e+00, 1.52100000e+01, 5.93190000e+01,\n",
              "        2.31344100e+02, 9.02241990e+02, 3.51874376e+03, 1.37231007e+04,\n",
              "        5.35200926e+04, 2.08728361e+05, 8.14040609e+05, 3.17475837e+06,\n",
              "        1.23815577e+07, 4.82880749e+07, 1.88323492e+08, 7.34461619e+08],\n",
              "       [1.00000000e+00, 4.00000000e+00, 1.60000000e+01, 6.40000000e+01,\n",
              "        2.56000000e+02, 1.02400000e+03, 4.09600000e+03, 1.63840000e+04,\n",
              "        6.55360000e+04, 2.62144000e+05, 1.04857600e+06, 4.19430400e+06,\n",
              "        1.67772160e+07, 6.71088640e+07, 2.68435456e+08, 1.07374182e+09],\n",
              "       [1.00000000e+00, 4.00000000e+00, 1.60000000e+01, 6.40000000e+01,\n",
              "        2.56000000e+02, 1.02400000e+03, 4.09600000e+03, 1.63840000e+04,\n",
              "        6.55360000e+04, 2.62144000e+05, 1.04857600e+06, 4.19430400e+06,\n",
              "        1.67772160e+07, 6.71088640e+07, 2.68435456e+08, 1.07374182e+09],\n",
              "       [1.00000000e+00, 4.10000000e+00, 1.68100000e+01, 6.89210000e+01,\n",
              "        2.82576100e+02, 1.15856201e+03, 4.75010424e+03, 1.94754274e+04,\n",
              "        7.98492523e+04, 3.27381934e+05, 1.34226593e+06, 5.50329032e+06,\n",
              "        2.25634903e+07, 9.25103102e+07, 3.79292272e+08, 1.55509831e+09],\n",
              "       [1.00000000e+00, 4.50000000e+00, 2.02500000e+01, 9.11250000e+01,\n",
              "        4.10062500e+02, 1.84528125e+03, 8.30376562e+03, 3.73669453e+04,\n",
              "        1.68151254e+05, 7.56680643e+05, 3.40506289e+06, 1.53227830e+07,\n",
              "        6.89525236e+07, 3.10286356e+08, 1.39628860e+09, 6.28329871e+09],\n",
              "       [1.00000000e+00, 4.90000000e+00, 2.40100000e+01, 1.17649000e+02,\n",
              "        5.76480100e+02, 2.82475249e+03, 1.38412872e+04, 6.78223073e+04,\n",
              "        3.32329306e+05, 1.62841360e+06, 7.97922663e+06, 3.90982105e+07,\n",
              "        1.91581231e+08, 9.38748034e+08, 4.59986537e+09, 2.25393403e+10],\n",
              "       [1.00000000e+00, 5.10000000e+00, 2.60100000e+01, 1.32651000e+02,\n",
              "        6.76520100e+02, 3.45025251e+03, 1.75962878e+04, 8.97410678e+04,\n",
              "        4.57679446e+05, 2.33416517e+06, 1.19042424e+07, 6.07116362e+07,\n",
              "        3.09629344e+08, 1.57910966e+09, 8.05345925e+09, 4.10726422e+10],\n",
              "       [1.00000000e+00, 5.30000000e+00, 2.80900000e+01, 1.48877000e+02,\n",
              "        7.89048100e+02, 4.18195493e+03, 2.21643611e+04, 1.17471114e+05,\n",
              "        6.22596904e+05, 3.29976359e+06, 1.74887470e+07, 9.26903593e+07,\n",
              "        4.91258904e+08, 2.60367219e+09, 1.37994626e+10, 7.31371519e+10],\n",
              "       [1.00000000e+00, 5.90000000e+00, 3.48100000e+01, 2.05379000e+02,\n",
              "        1.21173610e+03, 7.14924299e+03, 4.21805336e+04, 2.48865148e+05,\n",
              "        1.46830438e+06, 8.66299582e+06, 5.11116753e+07, 3.01558884e+08,\n",
              "        1.77919742e+09, 1.04972648e+10, 6.19338621e+10, 3.65409787e+11],\n",
              "       [1.00000000e+00, 6.00000000e+00, 3.60000000e+01, 2.16000000e+02,\n",
              "        1.29600000e+03, 7.77600000e+03, 4.66560000e+04, 2.79936000e+05,\n",
              "        1.67961600e+06, 1.00776960e+07, 6.04661760e+07, 3.62797056e+08,\n",
              "        2.17678234e+09, 1.30606940e+10, 7.83641641e+10, 4.70184985e+11],\n",
              "       [1.00000000e+00, 6.80000000e+00, 4.62400000e+01, 3.14432000e+02,\n",
              "        2.13813760e+03, 1.45393357e+04, 9.88674826e+04, 6.72298882e+05,\n",
              "        4.57163240e+06, 3.10871003e+07, 2.11392282e+08, 1.43746752e+09,\n",
              "        9.77477912e+09, 6.64684980e+10, 4.51985787e+11, 3.07350335e+12],\n",
              "       [1.00000000e+00, 7.10000000e+00, 5.04100000e+01, 3.57911000e+02,\n",
              "        2.54116810e+03, 1.80422935e+04, 1.28100284e+05, 9.09512016e+05,\n",
              "        6.45753531e+06, 4.58485007e+07, 3.25524355e+08, 2.31122292e+09,\n",
              "        1.64096827e+10, 1.16508747e+11, 8.27212107e+11, 5.87320596e+12],\n",
              "       [1.00000000e+00, 7.90000000e+00, 6.24100000e+01, 4.93039000e+02,\n",
              "        3.89500810e+03, 3.07705640e+04, 2.43087456e+05, 1.92039090e+06,\n",
              "        1.51710881e+07, 1.19851596e+08, 9.46827608e+08, 7.47993811e+09,\n",
              "        5.90915110e+10, 4.66822937e+11, 3.68790120e+12, 2.91344195e+13],\n",
              "       [1.00000000e+00, 8.20000000e+00, 6.72400000e+01, 5.51368000e+02,\n",
              "        4.52121760e+03, 3.70739843e+04, 3.04006671e+05, 2.49285471e+06,\n",
              "        2.04414086e+07, 1.67619550e+08, 1.37448031e+09, 1.12707386e+10,\n",
              "        9.24200563e+10, 7.57844461e+11, 6.21432458e+12, 5.09574616e+13],\n",
              "       [1.00000000e+00, 8.70000000e+00, 7.56900000e+01, 6.58503000e+02,\n",
              "        5.72897610e+03, 4.98420921e+04, 4.33626201e+05, 3.77254795e+06,\n",
              "        3.28211672e+07, 2.85544154e+08, 2.48423414e+09, 2.16128370e+10,\n",
              "        1.88031682e+11, 1.63587564e+12, 1.42321180e+13, 1.23819427e+14],\n",
              "       [1.00000000e+00, 9.00000000e+00, 8.10000000e+01, 7.29000000e+02,\n",
              "        6.56100000e+03, 5.90490000e+04, 5.31441000e+05, 4.78296900e+06,\n",
              "        4.30467210e+07, 3.87420489e+08, 3.48678440e+09, 3.13810596e+10,\n",
              "        2.82429536e+11, 2.54186583e+12, 2.28767925e+13, 2.05891132e+14],\n",
              "       [1.00000000e+00, 9.50000000e+00, 9.02500000e+01, 8.57375000e+02,\n",
              "        8.14506250e+03, 7.73780938e+04, 7.35091891e+05, 6.98337296e+06,\n",
              "        6.63420431e+07, 6.30249410e+08, 5.98736939e+09, 5.68800092e+10,\n",
              "        5.40360088e+11, 5.13342083e+12, 4.87674979e+13, 4.63291230e+14],\n",
              "       [1.00000000e+00, 9.60000000e+00, 9.21600000e+01, 8.84736000e+02,\n",
              "        8.49346560e+03, 8.15372698e+04, 7.82757790e+05, 7.51447478e+06,\n",
              "        7.21389579e+07, 6.92533996e+08, 6.64832636e+09, 6.38239331e+10,\n",
              "        6.12709757e+11, 5.88201367e+12, 5.64673312e+13, 5.42086380e+14],\n",
              "       [1.00000000e+00, 1.03000000e+01, 1.06090000e+02, 1.09272700e+03,\n",
              "        1.12550881e+04, 1.15927407e+05, 1.19405230e+06, 1.22987387e+07,\n",
              "        1.26677008e+08, 1.30477318e+09, 1.34391638e+10, 1.38423387e+11,\n",
              "        1.42576089e+12, 1.46853371e+13, 1.51258972e+14, 1.55796742e+15],\n",
              "       [1.00000000e+00, 1.05000000e+01, 1.10250000e+02, 1.15762500e+03,\n",
              "        1.21550625e+04, 1.27628156e+05, 1.34009564e+06, 1.40710042e+07,\n",
              "        1.47745544e+08, 1.55132822e+09, 1.62889463e+10, 1.71033936e+11,\n",
              "        1.79585633e+12, 1.88564914e+13, 1.97993160e+14, 2.07892818e+15]])"
            ]
          },
          "metadata": {
            "tags": []
          },
          "execution_count": 151
        }
      ]
    },
    {
      "cell_type": "code",
      "metadata": {
        "id": "isZrVSXvFuJd",
        "colab_type": "code",
        "colab": {}
      },
      "source": [
        "# apply linear regression\n",
        "trained1=regr.fit(exp,sal)"
      ],
      "execution_count": 0,
      "outputs": []
    },
    {
      "cell_type": "code",
      "metadata": {
        "id": "oP3o3wudFy2T",
        "colab_type": "code",
        "colab": {
          "base_uri": "https://localhost:8080/",
          "height": 283
        },
        "outputId": "6d6e1fbf-e7da-4e71-8e61-d990c7c53805"
      },
      "source": [
        "# now creating model again\n",
        "plt.xlabel(\"exp\")\n",
        "plt.ylabel(\"sal\")\n",
        "plt.scatter(exp,sal,label=\"actual sal\")\n",
        "plt.plot(exp,trained1.predict(exp),label=\"Linear predict sal\")\n",
        "plt.legend\n",
        "plt.show()"
      ],
      "execution_count": 153,
      "outputs": [
        {
          "output_type": "display_data",
          "data": {
            "image/png": "[encoded data removed]",
            "text/plain": [
              "<Figure size 432x288 with 1 Axes>"
            ]
          },
          "metadata": {
            "tags": []
          }
        }
      ]
    },
    {
      "cell_type": "code",
      "metadata": {
        "id": "rRw6D41nGtmQ",
        "colab_type": "code",
        "colab": {}
      },
      "source": [
        "# apply new exp data in model\n",
        "regr2=LinearRegression()"
      ],
      "execution_count": 0,
      "outputs": []
    },
    {
      "cell_type": "code",
      "metadata": {
        "id": "M9kogZhrG-Xd",
        "colab_type": "code",
        "colab": {}
      },
      "source": [
        "# new exp data apply\n",
        "trained2=regr2.fit(newexp,sal)"
      ],
      "execution_count": 0,
      "outputs": []
    },
    {
      "cell_type": "code",
      "metadata": {
        "id": "9e62nfnEHITB",
        "colab_type": "code",
        "colab": {
          "base_uri": "https://localhost:8080/",
          "height": 283
        },
        "outputId": "bc6ed9e8-613e-46c3-d900-88a5a0199248"
      },
      "source": [
        "# now creating model again\n",
        "plt.xlabel(\"exp\")\n",
        "plt.ylabel(\"sal\")\n",
        "plt.scatter(exp,sal,label=\"actual sal\")\n",
        "plt.plot(exp,trained2.predict(newexp),label=\"new model\")\n",
        "plt.legend\n",
        "plt.show()"
      ],
      "execution_count": 156,
      "outputs": [
        {
          "output_type": "display_data",
          "data": {
            "image/png": "[encoded data removed]",
            "text/plain": [
              "<Figure size 432x288 with 1 Axes>"
            ]
          },
          "metadata": {
            "tags": []
          }
        }
      ]
    },
    {
      "cell_type": "code",
      "metadata": {
        "id": "zVUXdIg-HzzU",
        "colab_type": "code",
        "colab": {}
      },
      "source": [
        ""
      ],
      "execution_count": 0,
      "outputs": []
    }
  ]
}