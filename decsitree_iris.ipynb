{
  "nbformat": 4,
  "nbformat_minor": 0,
  "metadata": {
    "colab": {
      "name": "decsitree_iris.ipynb",
      "version": "0.3.2",
      "provenance": [],
      "collapsed_sections": [],
      "include_colab_link": true
    },
    "kernelspec": {
      "name": "python3",
      "display_name": "Python 3"
    }
  },
  "cells": [
    {
      "cell_type": "markdown",
      "metadata": {
        "id": "view-in-github",
        "colab_type": "text"
      },
      "source": [
        "<a href=\"https://colab.research.google.com/github/DEEPESH98/Basic-C-programs/blob/master/decsitree_iris.ipynb\" target=\"_parent\"><img src=\"https://colab.research.google.com/assets/colab-badge.svg\" alt=\"Open In Colab\"/></a>"
      ]
    },
    {
      "cell_type": "code",
      "metadata": {
        "id": "x9qBCy9GZRuY",
        "colab_type": "code",
        "colab": {}
      },
      "source": [
        "from sklearn.datasets import load_iris\n",
        "import time\n",
        "import matplotlib.pyplot as plt\n",
        "from sklearn.tree import DecisionTreeClassifier\n",
        "from sklearn.metrics import accuracy_score"
      ],
      "execution_count": 0,
      "outputs": []
    },
    {
      "cell_type": "code",
      "metadata": {
        "id": "HZN_Or2dkCjq",
        "colab_type": "code",
        "colab": {
          "base_uri": "https://localhost:8080/",
          "height": 246
        },
        "outputId": "67a37467-2e69-4451-d190-420b660520df"
      },
      "source": [
        "#showing data sets\n",
        "#for i in dir(datasets):\n",
        " # print(i)\n",
        "  #time.sleep(1)\n",
        "  \n",
        "  [i for i in dir(datasets) if 'load' in i]  #this data setes is offline provide by SCI-KIT learn."
      ],
      "execution_count": 3,
      "outputs": [
        {
          "output_type": "execute_result",
          "data": {
            "text/plain": [
              "['__loader__',\n",
              " 'load_boston',\n",
              " 'load_breast_cancer',\n",
              " 'load_diabetes',\n",
              " 'load_digits',\n",
              " 'load_files',\n",
              " 'load_iris',\n",
              " 'load_linnerud',\n",
              " 'load_sample_image',\n",
              " 'load_sample_images',\n",
              " 'load_svmlight_file',\n",
              " 'load_svmlight_files',\n",
              " 'load_wine']"
            ]
          },
          "metadata": {
            "tags": []
          },
          "execution_count": 3
        }
      ]
    },
    {
      "cell_type": "code",
      "metadata": {
        "id": "pcrrMvqvkQWC",
        "colab_type": "code",
        "colab": {}
      },
      "source": [
        "from sklearn.datasets import load_iris"
      ],
      "execution_count": 0,
      "outputs": []
    },
    {
      "cell_type": "code",
      "metadata": {
        "id": "QvqJWGIppSAY",
        "colab_type": "code",
        "colab": {}
      },
      "source": [
        "#now loading IRIS data only\n",
        "iris=load_iris()\n",
        "\n"
      ],
      "execution_count": 0,
      "outputs": []
    },
    {
      "cell_type": "code",
      "metadata": {
        "id": "PayPRIa4pgnB",
        "colab_type": "code",
        "colab": {}
      },
      "source": [
        "dir(iris) # exploring variable"
      ],
      "execution_count": 0,
      "outputs": []
    },
    {
      "cell_type": "code",
      "metadata": {
        "id": "QHSGd06SpjQs",
        "colab_type": "code",
        "colab": {}
      },
      "source": [
        "#iris.DESCR"
      ],
      "execution_count": 0,
      "outputs": []
    },
    {
      "cell_type": "code",
      "metadata": {
        "id": "MnHi2wWQpzng",
        "colab_type": "code",
        "colab": {}
      },
      "source": [
        "#This are features name\n",
        "iris.feature_names"
      ],
      "execution_count": 0,
      "outputs": []
    },
    {
      "cell_type": "code",
      "metadata": {
        "id": "g4owAesLqLIL",
        "colab_type": "code",
        "colab": {}
      },
      "source": [
        "# label or answer\n",
        "iris.target_names"
      ],
      "execution_count": 0,
      "outputs": []
    },
    {
      "cell_type": "code",
      "metadata": {
        "id": "8cfWWHPmqe2W",
        "colab_type": "code",
        "colab": {}
      },
      "source": [
        "# atual data with attributes is\n",
        "\n",
        "features=iris.data\n",
        "features"
      ],
      "execution_count": 0,
      "outputs": []
    },
    {
      "cell_type": "code",
      "metadata": {
        "id": "Ll-vt6BdrE_v",
        "colab_type": "code",
        "colab": {}
      },
      "source": [
        "features"
      ],
      "execution_count": 0,
      "outputs": []
    },
    {
      "cell_type": "code",
      "metadata": {
        "id": "AnQdJOk0rUwQ",
        "colab_type": "code",
        "colab": {}
      },
      "source": [
        "# now time for labl2 data that will be exactly same as number of featues data\n",
        "label=iris.target\n",
        "label.shape"
      ],
      "execution_count": 0,
      "outputs": []
    },
    {
      "cell_type": "code",
      "metadata": {
        "id": "NbZNhiUCsFeO",
        "colab_type": "code",
        "colab": {}
      },
      "source": [
        "plt.scatter"
      ],
      "execution_count": 0,
      "outputs": []
    },
    {
      "cell_type": "code",
      "metadata": {
        "id": "XM9sXnHAtEK7",
        "colab_type": "code",
        "colab": {}
      },
      "source": [
        "SL=features[0:,0]\n",
        "SW=features[0:,1]\n",
        "           \n",
        "           "
      ],
      "execution_count": 0,
      "outputs": []
    },
    {
      "cell_type": "code",
      "metadata": {
        "id": "vLIm2_2utc4v",
        "colab_type": "code",
        "colab": {}
      },
      "source": [
        "plt.xlabel(\"Sepal_length\")\n",
        "plt.ylabel(\"width\")\n",
        "plt.scatter(SL,SW)\n",
        "plt.scatter(features[0:2],features[0:3],label=\"petal_data\",marker='x')\n",
        "plt.legend()"
      ],
      "execution_count": 0,
      "outputs": []
    },
    {
      "cell_type": "code",
      "metadata": {
        "id": "94s_xCWGt1L_",
        "colab_type": "code",
        "colab": {}
      },
      "source": [
        "#now timw for seperating data into two catagery\n",
        "#1.---- training data\n",
        "#2. ---- testing data --question\n",
        "\n",
        "from sklearn.model_selection  import train_test_split\n",
        "train_data,test_data,label_train,label_test=train_test_split(features,lable,test_size=0.1)  # feature or lable dono dene pedenge,0.1 matlabe 10% data alege hoga\n"
      ],
      "execution_count": 0,
      "outputs": []
    },
    {
      "cell_type": "code",
      "metadata": {
        "id": "vinAwA-xyfzI",
        "colab_type": "code",
        "colab": {}
      },
      "source": [
        "# calling decisiontree classifier\n",
        "clf=DecisionTreeClassifier()\n"
      ],
      "execution_count": 0,
      "outputs": []
    },
    {
      "cell_type": "code",
      "metadata": {
        "id": "lhDO-Zbm0Krl",
        "colab_type": "code",
        "colab": {}
      },
      "source": [
        "# now timw for training clf\n",
        "#yeha traning start hogi\n",
        "trained=clf.fit(train_data,label_train)"
      ],
      "execution_count": 0,
      "outputs": []
    },
    {
      "cell_type": "code",
      "metadata": {
        "id": "DVehLiuY0lRd",
        "colab_type": "code",
        "colab": {}
      },
      "source": [
        "# now predicting flowers\n",
        "#isme pass ker na he digram ka second point\n",
        "predicted_flowers=trained.predict(test_data)"
      ],
      "execution_count": 0,
      "outputs": []
    },
    {
      "cell_type": "code",
      "metadata": {
        "id": "4wBA3B7a099T",
        "colab_type": "code",
        "colab": {}
      },
      "source": [
        "predicted_flowers # algo answer"
      ],
      "execution_count": 0,
      "outputs": []
    },
    {
      "cell_type": "code",
      "metadata": {
        "id": "pyDsA-oZ1F-i",
        "colab_type": "code",
        "colab": {}
      },
      "source": [
        "label_testnn #actual answer"
      ],
      "execution_count": 0,
      "outputs": []
    },
    {
      "cell_type": "code",
      "metadata": {
        "id": "MeW9F9qP1M3O",
        "colab_type": "code",
        "colab": {}
      },
      "source": [
        "# find"
      ],
      "execution_count": 0,
      "outputs": []
    }
  ]
}